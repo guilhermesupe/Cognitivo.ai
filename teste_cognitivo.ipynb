{
 "cells": [
  {
   "cell_type": "markdown",
   "metadata": {},
   "source": [
    "## Importação da libs"
   ]
  },
  {
   "cell_type": "code",
   "execution_count": 1,
   "metadata": {},
   "outputs": [],
   "source": [
    "import pandas as pd \n",
    "import numpy as np \n",
    "import matplotlib.pyplot as plt\n",
    "from sklearn.model_selection import train_test_split\n",
    "from sklearn.model_selection import cross_val_score\n",
    "from keras.models import Sequential\n",
    "from keras.layers import Dense"
   ]
  },
  {
   "cell_type": "markdown",
   "metadata": {},
   "source": [
    "### Carregamento dos dados"
   ]
  },
  {
   "cell_type": "code",
   "execution_count": 2,
   "metadata": {},
   "outputs": [],
   "source": [
    "df = pd.read_csv('C:\\\\Users\\\\Guilherme\\\\Downloads\\\\listings.csv')"
   ]
  },
  {
   "cell_type": "markdown",
   "metadata": {},
   "source": [
    "### Uma primeira olhada nos dados"
   ]
  },
  {
   "cell_type": "code",
   "execution_count": 3,
   "metadata": {},
   "outputs": [
    {
     "data": {
      "text/html": [
       "<div>\n",
       "<style scoped>\n",
       "    .dataframe tbody tr th:only-of-type {\n",
       "        vertical-align: middle;\n",
       "    }\n",
       "\n",
       "    .dataframe tbody tr th {\n",
       "        vertical-align: top;\n",
       "    }\n",
       "\n",
       "    .dataframe thead th {\n",
       "        text-align: right;\n",
       "    }\n",
       "</style>\n",
       "<table border=\"1\" class=\"dataframe\">\n",
       "  <thead>\n",
       "    <tr style=\"text-align: right;\">\n",
       "      <th></th>\n",
       "      <th>id</th>\n",
       "      <th>listing_url</th>\n",
       "      <th>scrape_id</th>\n",
       "      <th>last_scraped</th>\n",
       "      <th>name</th>\n",
       "      <th>description</th>\n",
       "      <th>neighborhood_overview</th>\n",
       "      <th>picture_url</th>\n",
       "      <th>host_id</th>\n",
       "      <th>host_url</th>\n",
       "      <th>...</th>\n",
       "      <th>review_scores_communication</th>\n",
       "      <th>review_scores_location</th>\n",
       "      <th>review_scores_value</th>\n",
       "      <th>license</th>\n",
       "      <th>instant_bookable</th>\n",
       "      <th>calculated_host_listings_count</th>\n",
       "      <th>calculated_host_listings_count_entire_homes</th>\n",
       "      <th>calculated_host_listings_count_private_rooms</th>\n",
       "      <th>calculated_host_listings_count_shared_rooms</th>\n",
       "      <th>reviews_per_month</th>\n",
       "    </tr>\n",
       "  </thead>\n",
       "  <tbody>\n",
       "    <tr>\n",
       "      <th>0</th>\n",
       "      <td>17878</td>\n",
       "      <td>https://www.airbnb.com/rooms/17878</td>\n",
       "      <td>20211224070558</td>\n",
       "      <td>2021-12-25</td>\n",
       "      <td>Very Nice 2Br in Copacabana w. balcony, fast WiFi</td>\n",
       "      <td>Discounts for long term stays. &lt;br /&gt;- Large b...</td>\n",
       "      <td>This is the one of the bests spots in Rio. Bec...</td>\n",
       "      <td>https://a0.muscache.com/pictures/65320518/3069...</td>\n",
       "      <td>68997</td>\n",
       "      <td>https://www.airbnb.com/users/show/68997</td>\n",
       "      <td>...</td>\n",
       "      <td>4.90</td>\n",
       "      <td>4.76</td>\n",
       "      <td>4.66</td>\n",
       "      <td>NaN</td>\n",
       "      <td>f</td>\n",
       "      <td>1</td>\n",
       "      <td>1</td>\n",
       "      <td>0</td>\n",
       "      <td>0</td>\n",
       "      <td>1.92</td>\n",
       "    </tr>\n",
       "    <tr>\n",
       "      <th>1</th>\n",
       "      <td>24480</td>\n",
       "      <td>https://www.airbnb.com/rooms/24480</td>\n",
       "      <td>20211224070558</td>\n",
       "      <td>2021-12-25</td>\n",
       "      <td>Nice and cozy near Ipanema Beach, w/ home office</td>\n",
       "      <td>My studio is located in the best of Ipanema, t...</td>\n",
       "      <td>The beach, the lagoon, Ipanema is a great loca...</td>\n",
       "      <td>https://a0.muscache.com/pictures/11955612/b28e...</td>\n",
       "      <td>99249</td>\n",
       "      <td>https://www.airbnb.com/users/show/99249</td>\n",
       "      <td>...</td>\n",
       "      <td>4.90</td>\n",
       "      <td>4.97</td>\n",
       "      <td>4.58</td>\n",
       "      <td>NaN</td>\n",
       "      <td>f</td>\n",
       "      <td>1</td>\n",
       "      <td>1</td>\n",
       "      <td>0</td>\n",
       "      <td>0</td>\n",
       "      <td>0.62</td>\n",
       "    </tr>\n",
       "    <tr>\n",
       "      <th>2</th>\n",
       "      <td>25026</td>\n",
       "      <td>https://www.airbnb.com/rooms/25026</td>\n",
       "      <td>20211224070558</td>\n",
       "      <td>2021-12-25</td>\n",
       "      <td>Beautiful Modern Decorated Studio in Copa</td>\n",
       "      <td>Our apartment is a little gem, everyone loves ...</td>\n",
       "      <td>Copacabana is a lively neighborhood and the ap...</td>\n",
       "      <td>https://a0.muscache.com/pictures/3003965/68ebb...</td>\n",
       "      <td>102840</td>\n",
       "      <td>https://www.airbnb.com/users/show/102840</td>\n",
       "      <td>...</td>\n",
       "      <td>4.90</td>\n",
       "      <td>4.81</td>\n",
       "      <td>4.56</td>\n",
       "      <td>NaN</td>\n",
       "      <td>f</td>\n",
       "      <td>1</td>\n",
       "      <td>1</td>\n",
       "      <td>0</td>\n",
       "      <td>0</td>\n",
       "      <td>1.69</td>\n",
       "    </tr>\n",
       "    <tr>\n",
       "      <th>3</th>\n",
       "      <td>35636</td>\n",
       "      <td>https://www.airbnb.com/rooms/35636</td>\n",
       "      <td>20211224070558</td>\n",
       "      <td>2021-12-26</td>\n",
       "      <td>Cosy flat close to Ipanema beach</td>\n",
       "      <td>This cosy apartment  is just a few steps away ...</td>\n",
       "      <td>The  apartment street is very quiet and safe ....</td>\n",
       "      <td>https://a0.muscache.com/pictures/20009355/38b6...</td>\n",
       "      <td>153232</td>\n",
       "      <td>https://www.airbnb.com/users/show/153232</td>\n",
       "      <td>...</td>\n",
       "      <td>4.88</td>\n",
       "      <td>4.90</td>\n",
       "      <td>4.65</td>\n",
       "      <td>NaN</td>\n",
       "      <td>f</td>\n",
       "      <td>1</td>\n",
       "      <td>1</td>\n",
       "      <td>0</td>\n",
       "      <td>0</td>\n",
       "      <td>1.82</td>\n",
       "    </tr>\n",
       "    <tr>\n",
       "      <th>4</th>\n",
       "      <td>35764</td>\n",
       "      <td>https://www.airbnb.com/rooms/35764</td>\n",
       "      <td>20211224070558</td>\n",
       "      <td>2021-12-25</td>\n",
       "      <td>COPACABANA SEA BREEZE  -  RIO - 20 X Superhost</td>\n",
       "      <td>Our newly renovated studio is located in the b...</td>\n",
       "      <td>Our guests will experience living with a local...</td>\n",
       "      <td>https://a0.muscache.com/pictures/23782972/1d3e...</td>\n",
       "      <td>153691</td>\n",
       "      <td>https://www.airbnb.com/users/show/153691</td>\n",
       "      <td>...</td>\n",
       "      <td>4.94</td>\n",
       "      <td>4.94</td>\n",
       "      <td>4.87</td>\n",
       "      <td>NaN</td>\n",
       "      <td>f</td>\n",
       "      <td>1</td>\n",
       "      <td>1</td>\n",
       "      <td>0</td>\n",
       "      <td>0</td>\n",
       "      <td>2.76</td>\n",
       "    </tr>\n",
       "  </tbody>\n",
       "</table>\n",
       "<p>5 rows × 74 columns</p>\n",
       "</div>"
      ],
      "text/plain": [
       "      id                         listing_url       scrape_id last_scraped  \\\n",
       "0  17878  https://www.airbnb.com/rooms/17878  20211224070558   2021-12-25   \n",
       "1  24480  https://www.airbnb.com/rooms/24480  20211224070558   2021-12-25   \n",
       "2  25026  https://www.airbnb.com/rooms/25026  20211224070558   2021-12-25   \n",
       "3  35636  https://www.airbnb.com/rooms/35636  20211224070558   2021-12-26   \n",
       "4  35764  https://www.airbnb.com/rooms/35764  20211224070558   2021-12-25   \n",
       "\n",
       "                                                name  \\\n",
       "0  Very Nice 2Br in Copacabana w. balcony, fast WiFi   \n",
       "1   Nice and cozy near Ipanema Beach, w/ home office   \n",
       "2          Beautiful Modern Decorated Studio in Copa   \n",
       "3                   Cosy flat close to Ipanema beach   \n",
       "4     COPACABANA SEA BREEZE  -  RIO - 20 X Superhost   \n",
       "\n",
       "                                         description  \\\n",
       "0  Discounts for long term stays. <br />- Large b...   \n",
       "1  My studio is located in the best of Ipanema, t...   \n",
       "2  Our apartment is a little gem, everyone loves ...   \n",
       "3  This cosy apartment  is just a few steps away ...   \n",
       "4  Our newly renovated studio is located in the b...   \n",
       "\n",
       "                               neighborhood_overview  \\\n",
       "0  This is the one of the bests spots in Rio. Bec...   \n",
       "1  The beach, the lagoon, Ipanema is a great loca...   \n",
       "2  Copacabana is a lively neighborhood and the ap...   \n",
       "3  The  apartment street is very quiet and safe ....   \n",
       "4  Our guests will experience living with a local...   \n",
       "\n",
       "                                         picture_url  host_id  \\\n",
       "0  https://a0.muscache.com/pictures/65320518/3069...    68997   \n",
       "1  https://a0.muscache.com/pictures/11955612/b28e...    99249   \n",
       "2  https://a0.muscache.com/pictures/3003965/68ebb...   102840   \n",
       "3  https://a0.muscache.com/pictures/20009355/38b6...   153232   \n",
       "4  https://a0.muscache.com/pictures/23782972/1d3e...   153691   \n",
       "\n",
       "                                   host_url  ... review_scores_communication  \\\n",
       "0   https://www.airbnb.com/users/show/68997  ...                        4.90   \n",
       "1   https://www.airbnb.com/users/show/99249  ...                        4.90   \n",
       "2  https://www.airbnb.com/users/show/102840  ...                        4.90   \n",
       "3  https://www.airbnb.com/users/show/153232  ...                        4.88   \n",
       "4  https://www.airbnb.com/users/show/153691  ...                        4.94   \n",
       "\n",
       "  review_scores_location review_scores_value license instant_bookable  \\\n",
       "0                   4.76                4.66     NaN                f   \n",
       "1                   4.97                4.58     NaN                f   \n",
       "2                   4.81                4.56     NaN                f   \n",
       "3                   4.90                4.65     NaN                f   \n",
       "4                   4.94                4.87     NaN                f   \n",
       "\n",
       "  calculated_host_listings_count calculated_host_listings_count_entire_homes  \\\n",
       "0                              1                                           1   \n",
       "1                              1                                           1   \n",
       "2                              1                                           1   \n",
       "3                              1                                           1   \n",
       "4                              1                                           1   \n",
       "\n",
       "  calculated_host_listings_count_private_rooms  \\\n",
       "0                                            0   \n",
       "1                                            0   \n",
       "2                                            0   \n",
       "3                                            0   \n",
       "4                                            0   \n",
       "\n",
       "  calculated_host_listings_count_shared_rooms reviews_per_month  \n",
       "0                                           0              1.92  \n",
       "1                                           0              0.62  \n",
       "2                                           0              1.69  \n",
       "3                                           0              1.82  \n",
       "4                                           0              2.76  \n",
       "\n",
       "[5 rows x 74 columns]"
      ]
     },
     "execution_count": 3,
     "metadata": {},
     "output_type": "execute_result"
    }
   ],
   "source": [
    "df.head()"
   ]
  },
  {
   "cell_type": "markdown",
   "metadata": {},
   "source": [
    "### São 24555 linhas e 74 colunas ou features."
   ]
  },
  {
   "cell_type": "code",
   "execution_count": 4,
   "metadata": {},
   "outputs": [
    {
     "name": "stdout",
     "output_type": "stream",
     "text": [
      "<class 'pandas.core.frame.DataFrame'>\n",
      "RangeIndex: 24549 entries, 0 to 24548\n",
      "Data columns (total 74 columns):\n",
      " #   Column                                        Non-Null Count  Dtype  \n",
      "---  ------                                        --------------  -----  \n",
      " 0   id                                            24549 non-null  int64  \n",
      " 1   listing_url                                   24549 non-null  object \n",
      " 2   scrape_id                                     24549 non-null  int64  \n",
      " 3   last_scraped                                  24549 non-null  object \n",
      " 4   name                                          24528 non-null  object \n",
      " 5   description                                   23336 non-null  object \n",
      " 6   neighborhood_overview                         13212 non-null  object \n",
      " 7   picture_url                                   24549 non-null  object \n",
      " 8   host_id                                       24549 non-null  int64  \n",
      " 9   host_url                                      24549 non-null  object \n",
      " 10  host_name                                     24534 non-null  object \n",
      " 11  host_since                                    24534 non-null  object \n",
      " 12  host_location                                 24463 non-null  object \n",
      " 13  host_about                                    12095 non-null  object \n",
      " 14  host_response_time                            20668 non-null  object \n",
      " 15  host_response_rate                            20668 non-null  object \n",
      " 16  host_acceptance_rate                          18902 non-null  object \n",
      " 17  host_is_superhost                             24534 non-null  object \n",
      " 18  host_thumbnail_url                            24534 non-null  object \n",
      " 19  host_picture_url                              24534 non-null  object \n",
      " 20  host_neighbourhood                            12768 non-null  object \n",
      " 21  host_listings_count                           24534 non-null  float64\n",
      " 22  host_total_listings_count                     24534 non-null  float64\n",
      " 23  host_verifications                            24549 non-null  object \n",
      " 24  host_has_profile_pic                          24534 non-null  object \n",
      " 25  host_identity_verified                        24534 non-null  object \n",
      " 26  neighbourhood                                 13212 non-null  object \n",
      " 27  neighbourhood_cleansed                        24549 non-null  object \n",
      " 28  neighbourhood_group_cleansed                  0 non-null      float64\n",
      " 29  latitude                                      24549 non-null  float64\n",
      " 30  longitude                                     24549 non-null  float64\n",
      " 31  property_type                                 24549 non-null  object \n",
      " 32  room_type                                     24549 non-null  object \n",
      " 33  accommodates                                  24549 non-null  int64  \n",
      " 34  bathrooms                                     0 non-null      float64\n",
      " 35  bathrooms_text                                24485 non-null  object \n",
      " 36  bedrooms                                      23059 non-null  float64\n",
      " 37  beds                                          24202 non-null  float64\n",
      " 38  amenities                                     24549 non-null  object \n",
      " 39  price                                         24549 non-null  object \n",
      " 40  minimum_nights                                24549 non-null  int64  \n",
      " 41  maximum_nights                                24549 non-null  int64  \n",
      " 42  minimum_minimum_nights                        24549 non-null  int64  \n",
      " 43  maximum_minimum_nights                        24549 non-null  int64  \n",
      " 44  minimum_maximum_nights                        24549 non-null  int64  \n",
      " 45  maximum_maximum_nights                        24549 non-null  int64  \n",
      " 46  minimum_nights_avg_ntm                        24549 non-null  float64\n",
      " 47  maximum_nights_avg_ntm                        24549 non-null  float64\n",
      " 48  calendar_updated                              0 non-null      float64\n",
      " 49  has_availability                              24549 non-null  object \n",
      " 50  availability_30                               24549 non-null  int64  \n",
      " 51  availability_60                               24549 non-null  int64  \n",
      " 52  availability_90                               24549 non-null  int64  \n",
      " 53  availability_365                              24549 non-null  int64  \n",
      " 54  calendar_last_scraped                         24549 non-null  object \n",
      " 55  number_of_reviews                             24549 non-null  int64  \n",
      " 56  number_of_reviews_ltm                         24549 non-null  int64  \n",
      " 57  number_of_reviews_l30d                        24549 non-null  int64  \n",
      " 58  first_review                                  15588 non-null  object \n",
      " 59  last_review                                   15588 non-null  object \n",
      " 60  review_scores_rating                          15588 non-null  float64\n",
      " 61  review_scores_accuracy                        15213 non-null  float64\n",
      " 62  review_scores_cleanliness                     15213 non-null  float64\n",
      " 63  review_scores_checkin                         15213 non-null  float64\n",
      " 64  review_scores_communication                   15214 non-null  float64\n",
      " 65  review_scores_location                        15212 non-null  float64\n",
      " 66  review_scores_value                           15214 non-null  float64\n",
      " 67  license                                       0 non-null      float64\n",
      " 68  instant_bookable                              24549 non-null  object \n",
      " 69  calculated_host_listings_count                24549 non-null  int64  \n",
      " 70  calculated_host_listings_count_entire_homes   24549 non-null  int64  \n",
      " 71  calculated_host_listings_count_private_rooms  24549 non-null  int64  \n",
      " 72  calculated_host_listings_count_shared_rooms   24549 non-null  int64  \n",
      " 73  reviews_per_month                             15588 non-null  float64\n",
      "dtypes: float64(20), int64(21), object(33)\n",
      "memory usage: 13.9+ MB\n"
     ]
    }
   ],
   "source": [
    "df.info()"
   ]
  },
  {
   "cell_type": "markdown",
   "metadata": {},
   "source": [
    "### É possível notar que as variável se dividem em: pertinentes ao dono do imóvel (host), pertinentes ao imóvel e pertinentes ao ato de locação (disponibilidade, preço etc)"
   ]
  },
  {
   "cell_type": "markdown",
   "metadata": {},
   "source": [
    "## Agora vamos analisar a variável alvo \"room_type\" que será o nosso y (y = f(x)) "
   ]
  },
  {
   "cell_type": "code",
   "execution_count": 5,
   "metadata": {},
   "outputs": [
    {
     "data": {
      "text/plain": [
       "Entire home/apt    18564\n",
       "Private room        5415\n",
       "Shared room          494\n",
       "Hotel room            76\n",
       "Name: room_type, dtype: int64"
      ]
     },
     "execution_count": 5,
     "metadata": {},
     "output_type": "execute_result"
    }
   ],
   "source": [
    "Y = df['room_type']\n",
    "Y.value_counts()"
   ]
  },
  {
   "cell_type": "markdown",
   "metadata": {},
   "source": [
    "### É possível notar que a variável alvo é do tipo categórica (problema de classificação múltipla) e que são 4 os possíveis valores de y (classes). É possível notar que as classes estão consideravelmente desbalanceadas, fazendo com que a métrica acurácia perca o significado se usarmos os dados como estão."
   ]
  },
  {
   "cell_type": "markdown",
   "metadata": {},
   "source": [
    "### Das 74 features disponíves, vamos selecionar as variáveis que forem mais próximas do domínio da variável. Como a variável alvo é sobre o imóvel, vamos selecionar features que são pertinentes ao imóvel."
   ]
  },
  {
   "cell_type": "markdown",
   "metadata": {},
   "source": [
    "### Vamos também remover amostras que possuam algum valor faltante das features selecionadas"
   ]
  },
  {
   "cell_type": "code",
   "execution_count": 6,
   "metadata": {},
   "outputs": [],
   "source": [
    "#data_1 = df.loc[df['room_type'] == 'Entire home/apt'].sample( int( (len(df.loc[df['room_type'] == 'Entire home/apt']) ) ))\n",
    "#data_2 = df.loc[df['room_type'] == 'Private room'].sample( int( (len(df.loc[df['room_type'] == 'Private room']) )   ))\n",
    "#data_3 = df.loc[df['room_type'] == 'Shared room'].sample( int( (len(df.loc[df['room_type'] == 'Shared room']) )  ))\n",
    "#data_4 = df.loc[df['room_type'] == 'Hotel room'].sample( int( (len(df.loc[df['room_type'] == 'Hotel room']) )   ))\n",
    "#frames = [data_1, data_2,data_3,data_4]\n",
    "#df = pd.concat(frames)\n",
    "df = [df[\"description\"],df[\"host_listings_count\"], df[\"host_total_listings_count\"],df[\"host_verifications\"]\n",
    ",df[\"host_identity_verified\"],df[\"neighbourhood_cleansed\"],df[\"property_type\"],df['accommodates'],df['bathrooms_text'],\n",
    "df['bedrooms'],df['beds'],df['price'],df['minimum_nights'],df['maximum_nights'],df['availability_365'],df['room_type'] ]\n",
    "\n",
    "headers = [\"description\",\"host_listings_count\", \"host_total_listings_count\",\"host_verifications\"\n",
    ",\"host_identity_verified\",\"neighbourhood_cleansed\",\"property_type\",'accommodates','bathrooms_text',\n",
    "'bedrooms','beds','price','minimum_nights','maximum_nights','availability_365','room_type']\n",
    "\n",
    "df = pd.concat(df, axis=1, keys=headers)\n",
    "df = df.dropna()\n",
    "Y = df['room_type']"
   ]
  },
  {
   "cell_type": "markdown",
   "metadata": {},
   "source": [
    "### Selecionando 16 variáveis, sendo a maioria pertinentes ao imóvel e algumas poucas relacionadas ao dono do imóvel (host). Vamos agora focar na variável alvo após o balanceamento das classes"
   ]
  },
  {
   "cell_type": "code",
   "execution_count": 7,
   "metadata": {},
   "outputs": [
    {
     "data": {
      "text/plain": [
       "count               21694\n",
       "unique                  4\n",
       "top       Entire home/apt\n",
       "freq                16336\n",
       "Name: room_type, dtype: object"
      ]
     },
     "execution_count": 7,
     "metadata": {},
     "output_type": "execute_result"
    }
   ],
   "source": [
    "Y.describe()"
   ]
  },
  {
   "cell_type": "markdown",
   "metadata": {},
   "source": [
    "### É possível notar que \"Entire home/apt\" ainda é a mais frequente, o que é bom, por que queremos manter parte da distribuição natural dos dados"
   ]
  },
  {
   "cell_type": "code",
   "execution_count": 8,
   "metadata": {},
   "outputs": [
    {
     "data": {
      "text/plain": [
       "Entire home/apt    16336\n",
       "Private room        4870\n",
       "Shared room          433\n",
       "Hotel room            55\n",
       "Name: room_type, dtype: int64"
      ]
     },
     "execution_count": 8,
     "metadata": {},
     "output_type": "execute_result"
    }
   ],
   "source": [
    "Y.value_counts()"
   ]
  },
  {
   "cell_type": "markdown",
   "metadata": {},
   "source": [
    "### Com as classes mais balanceadas vamos transformar as categorias em valores númericos para fazer a classificação"
   ]
  },
  {
   "cell_type": "code",
   "execution_count": 9,
   "metadata": {},
   "outputs": [],
   "source": [
    "Y = Y.astype('category')\n",
    "Y = Y.cat.codes\n",
    "Y = Y.astype( int, errors='raise')"
   ]
  },
  {
   "cell_type": "markdown",
   "metadata": {},
   "source": [
    "### Vamos aprofundar a análise das variáveis pré-selecionadas. Primeiro com as variáveis numéricas"
   ]
  },
  {
   "cell_type": "code",
   "execution_count": 10,
   "metadata": {},
   "outputs": [
    {
     "data": {
      "text/html": [
       "<div>\n",
       "<style scoped>\n",
       "    .dataframe tbody tr th:only-of-type {\n",
       "        vertical-align: middle;\n",
       "    }\n",
       "\n",
       "    .dataframe tbody tr th {\n",
       "        vertical-align: top;\n",
       "    }\n",
       "\n",
       "    .dataframe thead th {\n",
       "        text-align: right;\n",
       "    }\n",
       "</style>\n",
       "<table border=\"1\" class=\"dataframe\">\n",
       "  <thead>\n",
       "    <tr style=\"text-align: right;\">\n",
       "      <th></th>\n",
       "      <th>host_listings_count</th>\n",
       "      <th>host_total_listings_count</th>\n",
       "      <th>accommodates</th>\n",
       "      <th>bedrooms</th>\n",
       "      <th>beds</th>\n",
       "      <th>minimum_nights</th>\n",
       "      <th>maximum_nights</th>\n",
       "      <th>availability_365</th>\n",
       "    </tr>\n",
       "  </thead>\n",
       "  <tbody>\n",
       "    <tr>\n",
       "      <th>count</th>\n",
       "      <td>21694.000000</td>\n",
       "      <td>21694.000000</td>\n",
       "      <td>21694.000000</td>\n",
       "      <td>21694.000000</td>\n",
       "      <td>21694.000000</td>\n",
       "      <td>21694.000000</td>\n",
       "      <td>21694.000000</td>\n",
       "      <td>21694.000000</td>\n",
       "    </tr>\n",
       "    <tr>\n",
       "      <th>mean</th>\n",
       "      <td>8.469853</td>\n",
       "      <td>8.469853</td>\n",
       "      <td>4.267539</td>\n",
       "      <td>1.723564</td>\n",
       "      <td>2.691435</td>\n",
       "      <td>5.051904</td>\n",
       "      <td>600.180649</td>\n",
       "      <td>220.029686</td>\n",
       "    </tr>\n",
       "    <tr>\n",
       "      <th>std</th>\n",
       "      <td>31.723076</td>\n",
       "      <td>31.723076</td>\n",
       "      <td>2.498192</td>\n",
       "      <td>1.117476</td>\n",
       "      <td>2.318848</td>\n",
       "      <td>20.479595</td>\n",
       "      <td>633.730006</td>\n",
       "      <td>133.650278</td>\n",
       "    </tr>\n",
       "    <tr>\n",
       "      <th>min</th>\n",
       "      <td>0.000000</td>\n",
       "      <td>0.000000</td>\n",
       "      <td>1.000000</td>\n",
       "      <td>1.000000</td>\n",
       "      <td>1.000000</td>\n",
       "      <td>1.000000</td>\n",
       "      <td>1.000000</td>\n",
       "      <td>0.000000</td>\n",
       "    </tr>\n",
       "    <tr>\n",
       "      <th>25%</th>\n",
       "      <td>1.000000</td>\n",
       "      <td>1.000000</td>\n",
       "      <td>2.000000</td>\n",
       "      <td>1.000000</td>\n",
       "      <td>1.000000</td>\n",
       "      <td>2.000000</td>\n",
       "      <td>31.000000</td>\n",
       "      <td>87.000000</td>\n",
       "    </tr>\n",
       "    <tr>\n",
       "      <th>50%</th>\n",
       "      <td>1.000000</td>\n",
       "      <td>1.000000</td>\n",
       "      <td>4.000000</td>\n",
       "      <td>1.000000</td>\n",
       "      <td>2.000000</td>\n",
       "      <td>3.000000</td>\n",
       "      <td>365.000000</td>\n",
       "      <td>261.000000</td>\n",
       "    </tr>\n",
       "    <tr>\n",
       "      <th>75%</th>\n",
       "      <td>3.000000</td>\n",
       "      <td>3.000000</td>\n",
       "      <td>6.000000</td>\n",
       "      <td>2.000000</td>\n",
       "      <td>3.000000</td>\n",
       "      <td>4.000000</td>\n",
       "      <td>1125.000000</td>\n",
       "      <td>355.000000</td>\n",
       "    </tr>\n",
       "    <tr>\n",
       "      <th>max</th>\n",
       "      <td>666.000000</td>\n",
       "      <td>666.000000</td>\n",
       "      <td>16.000000</td>\n",
       "      <td>47.000000</td>\n",
       "      <td>91.000000</td>\n",
       "      <td>1000.000000</td>\n",
       "      <td>47036.000000</td>\n",
       "      <td>365.000000</td>\n",
       "    </tr>\n",
       "  </tbody>\n",
       "</table>\n",
       "</div>"
      ],
      "text/plain": [
       "       host_listings_count  host_total_listings_count  accommodates  \\\n",
       "count         21694.000000               21694.000000  21694.000000   \n",
       "mean              8.469853                   8.469853      4.267539   \n",
       "std              31.723076                  31.723076      2.498192   \n",
       "min               0.000000                   0.000000      1.000000   \n",
       "25%               1.000000                   1.000000      2.000000   \n",
       "50%               1.000000                   1.000000      4.000000   \n",
       "75%               3.000000                   3.000000      6.000000   \n",
       "max             666.000000                 666.000000     16.000000   \n",
       "\n",
       "           bedrooms          beds  minimum_nights  maximum_nights  \\\n",
       "count  21694.000000  21694.000000    21694.000000    21694.000000   \n",
       "mean       1.723564      2.691435        5.051904      600.180649   \n",
       "std        1.117476      2.318848       20.479595      633.730006   \n",
       "min        1.000000      1.000000        1.000000        1.000000   \n",
       "25%        1.000000      1.000000        2.000000       31.000000   \n",
       "50%        1.000000      2.000000        3.000000      365.000000   \n",
       "75%        2.000000      3.000000        4.000000     1125.000000   \n",
       "max       47.000000     91.000000     1000.000000    47036.000000   \n",
       "\n",
       "       availability_365  \n",
       "count      21694.000000  \n",
       "mean         220.029686  \n",
       "std          133.650278  \n",
       "min            0.000000  \n",
       "25%           87.000000  \n",
       "50%          261.000000  \n",
       "75%          355.000000  \n",
       "max          365.000000  "
      ]
     },
     "execution_count": 10,
     "metadata": {},
     "output_type": "execute_result"
    }
   ],
   "source": [
    "df.describe()"
   ]
  },
  {
   "cell_type": "markdown",
   "metadata": {},
   "source": [
    "### Agora com as variáveis de outros tipos como texto"
   ]
  },
  {
   "cell_type": "code",
   "execution_count": 11,
   "metadata": {},
   "outputs": [
    {
     "data": {
      "text/html": [
       "<div>\n",
       "<style scoped>\n",
       "    .dataframe tbody tr th:only-of-type {\n",
       "        vertical-align: middle;\n",
       "    }\n",
       "\n",
       "    .dataframe tbody tr th {\n",
       "        vertical-align: top;\n",
       "    }\n",
       "\n",
       "    .dataframe thead th {\n",
       "        text-align: right;\n",
       "    }\n",
       "</style>\n",
       "<table border=\"1\" class=\"dataframe\">\n",
       "  <thead>\n",
       "    <tr style=\"text-align: right;\">\n",
       "      <th></th>\n",
       "      <th>description</th>\n",
       "      <th>host_verifications</th>\n",
       "      <th>host_identity_verified</th>\n",
       "      <th>neighbourhood_cleansed</th>\n",
       "      <th>property_type</th>\n",
       "      <th>bathrooms_text</th>\n",
       "      <th>price</th>\n",
       "      <th>room_type</th>\n",
       "    </tr>\n",
       "  </thead>\n",
       "  <tbody>\n",
       "    <tr>\n",
       "      <th>count</th>\n",
       "      <td>21694</td>\n",
       "      <td>21694</td>\n",
       "      <td>21694</td>\n",
       "      <td>21694</td>\n",
       "      <td>21694</td>\n",
       "      <td>21694</td>\n",
       "      <td>21694</td>\n",
       "      <td>21694</td>\n",
       "    </tr>\n",
       "    <tr>\n",
       "      <th>unique</th>\n",
       "      <td>21109</td>\n",
       "      <td>365</td>\n",
       "      <td>2</td>\n",
       "      <td>152</td>\n",
       "      <td>78</td>\n",
       "      <td>52</td>\n",
       "      <td>2349</td>\n",
       "      <td>4</td>\n",
       "    </tr>\n",
       "    <tr>\n",
       "      <th>top</th>\n",
       "      <td>Relaxe com toda a família nesta acomodação tra...</td>\n",
       "      <td>['email', 'phone']</td>\n",
       "      <td>t</td>\n",
       "      <td>Copacabana</td>\n",
       "      <td>Entire rental unit</td>\n",
       "      <td>1 bath</td>\n",
       "      <td>$500.00</td>\n",
       "      <td>Entire home/apt</td>\n",
       "    </tr>\n",
       "    <tr>\n",
       "      <th>freq</th>\n",
       "      <td>23</td>\n",
       "      <td>3809</td>\n",
       "      <td>15027</td>\n",
       "      <td>6220</td>\n",
       "      <td>12603</td>\n",
       "      <td>8367</td>\n",
       "      <td>434</td>\n",
       "      <td>16336</td>\n",
       "    </tr>\n",
       "  </tbody>\n",
       "</table>\n",
       "</div>"
      ],
      "text/plain": [
       "                                              description  host_verifications  \\\n",
       "count                                               21694               21694   \n",
       "unique                                              21109                 365   \n",
       "top     Relaxe com toda a família nesta acomodação tra...  ['email', 'phone']   \n",
       "freq                                                   23                3809   \n",
       "\n",
       "       host_identity_verified neighbourhood_cleansed       property_type  \\\n",
       "count                   21694                  21694               21694   \n",
       "unique                      2                    152                  78   \n",
       "top                         t             Copacabana  Entire rental unit   \n",
       "freq                    15027                   6220               12603   \n",
       "\n",
       "       bathrooms_text    price        room_type  \n",
       "count           21694    21694            21694  \n",
       "unique             52     2349                4  \n",
       "top            1 bath  $500.00  Entire home/apt  \n",
       "freq             8367      434            16336  "
      ]
     },
     "execution_count": 11,
     "metadata": {},
     "output_type": "execute_result"
    }
   ],
   "source": [
    "df.describe(exclude=[np.number])"
   ]
  },
  {
   "cell_type": "code",
   "execution_count": 12,
   "metadata": {},
   "outputs": [
    {
     "name": "stdout",
     "output_type": "stream",
     "text": [
      "<class 'pandas.core.frame.DataFrame'>\n",
      "Int64Index: 21694 entries, 0 to 24548\n",
      "Data columns (total 16 columns):\n",
      " #   Column                     Non-Null Count  Dtype  \n",
      "---  ------                     --------------  -----  \n",
      " 0   description                21694 non-null  object \n",
      " 1   host_listings_count        21694 non-null  float64\n",
      " 2   host_total_listings_count  21694 non-null  float64\n",
      " 3   host_verifications         21694 non-null  object \n",
      " 4   host_identity_verified     21694 non-null  object \n",
      " 5   neighbourhood_cleansed     21694 non-null  object \n",
      " 6   property_type              21694 non-null  object \n",
      " 7   accommodates               21694 non-null  int64  \n",
      " 8   bathrooms_text             21694 non-null  object \n",
      " 9   bedrooms                   21694 non-null  float64\n",
      " 10  beds                       21694 non-null  float64\n",
      " 11  price                      21694 non-null  object \n",
      " 12  minimum_nights             21694 non-null  int64  \n",
      " 13  maximum_nights             21694 non-null  int64  \n",
      " 14  availability_365           21694 non-null  int64  \n",
      " 15  room_type                  21694 non-null  object \n",
      "dtypes: float64(4), int64(4), object(8)\n",
      "memory usage: 2.8+ MB\n"
     ]
    }
   ],
   "source": [
    "df.info()"
   ]
  },
  {
   "cell_type": "markdown",
   "metadata": {},
   "source": [
    "### É possível notar que muitos variáveis estão como tipo (object) e para fazer a modelagem precisamos transformar-las em numéricas."
   ]
  },
  {
   "cell_type": "markdown",
   "metadata": {},
   "source": [
    "### Vamos remover a variável de texto que para tratar daria um pouco mais de trabalho, \"description\", essa variável pode ser inclusa nessa modelagem caso o texto seja tokenizado e vectorizado utilizando algum embedding (word2Vec, Glove etc). Vamos remover também a variável alvo que já se encontra em seu próprio dataframe chamado Y"
   ]
  },
  {
   "cell_type": "code",
   "execution_count": 13,
   "metadata": {},
   "outputs": [],
   "source": [
    "X = df.drop('room_type', axis=1).copy()\n",
    "X = X.drop('description', axis=1).copy()"
   ]
  },
  {
   "cell_type": "markdown",
   "metadata": {},
   "source": [
    "### A variável host_verifications, vamos pegar o número de verificações que aquele host possuí, ex: ['email', 'phone', 'reviews', 'jumio', 'offline_government_id', 'selfie', 'government_id'] será colocado o valor 7."
   ]
  },
  {
   "cell_type": "markdown",
   "metadata": {},
   "source": [
    "### A variável \"price\" ex: [\\$4,106]será removido o cifrão e a vírgula separadora de casas decimais e convertida para um float"
   ]
  },
  {
   "cell_type": "markdown",
   "metadata": {},
   "source": [
    "### A variável \"bathroom_text\" ex: [1.5 baths] será considerado o primeiro elemento depois de um split de spaço e convertida para um float"
   ]
  },
  {
   "cell_type": "markdown",
   "metadata": {},
   "source": [
    "### A variável \"host_identity_verified\" ex [t] ou [f] será substituída para 1 ou 0 respectivamente"
   ]
  },
  {
   "cell_type": "code",
   "execution_count": 14,
   "metadata": {},
   "outputs": [
    {
     "name": "stderr",
     "output_type": "stream",
     "text": [
      "21694it [00:01, 18585.37it/s]\n"
     ]
    }
   ],
   "source": [
    "from tqdm import tqdm \n",
    "for index, row in tqdm(X.iterrows()):\n",
    "    #print(len(row['host_verifications'].split()))\n",
    "    #print(row['bathrooms_text'][0])\n",
    "    X.at[index,'host_verifications'] = int(len(row['host_verifications'].split()))\n",
    "    X.at[index,'price'] = float(row['price'][1:].replace(\",\",\"\"))\n",
    "    try:\n",
    "        X.at[index,'bathrooms_text'] = float(row['bathrooms_text'][0])\n",
    "    except ValueError:\n",
    "        X.at[index,'bathrooms_text'] = 1\n",
    "        \n",
    "    if row['host_identity_verified'] == 't': \n",
    "        X.at[index,'host_identity_verified'] = 1\n",
    "    else:\n",
    "        X.at[index,'host_identity_verified'] = 0\n"
   ]
  },
  {
   "cell_type": "markdown",
   "metadata": {},
   "source": [
    "### As variáveis 'neighbourhood_cleansed' ex: [Copacabana]  e 'property_type' ex: [Entire condominium (condo)] que são categóricas podem ser subsituídas por um inteiro que representa aquela classe"
   ]
  },
  {
   "cell_type": "code",
   "execution_count": 15,
   "metadata": {},
   "outputs": [],
   "source": [
    "X['neighbourhood_cleansed'] = X['neighbourhood_cleansed'].astype('category')\n",
    "X['neighbourhood_cleansed'] = X['neighbourhood_cleansed'].cat.codes\n",
    "\n",
    "X['property_type'] = X['property_type'].astype('category')\n",
    "X['property_type'] = X['property_type'].cat.codes"
   ]
  },
  {
   "cell_type": "markdown",
   "metadata": {},
   "source": [
    "### Feita essas correções e limpeza de dados, podemos mudar o tipo das colunas de object para numérico"
   ]
  },
  {
   "cell_type": "code",
   "execution_count": 16,
   "metadata": {},
   "outputs": [
    {
     "name": "stdout",
     "output_type": "stream",
     "text": [
      "<class 'pandas.core.frame.DataFrame'>\n",
      "Int64Index: 21694 entries, 0 to 24548\n",
      "Data columns (total 14 columns):\n",
      " #   Column                     Non-Null Count  Dtype  \n",
      "---  ------                     --------------  -----  \n",
      " 0   host_listings_count        21694 non-null  float64\n",
      " 1   host_total_listings_count  21694 non-null  float64\n",
      " 2   host_verifications         21694 non-null  int32  \n",
      " 3   host_identity_verified     21694 non-null  int32  \n",
      " 4   neighbourhood_cleansed     21694 non-null  int32  \n",
      " 5   property_type              21694 non-null  int32  \n",
      " 6   accommodates               21694 non-null  int64  \n",
      " 7   bathrooms_text             21694 non-null  float64\n",
      " 8   bedrooms                   21694 non-null  float64\n",
      " 9   beds                       21694 non-null  float64\n",
      " 10  price                      21694 non-null  float64\n",
      " 11  minimum_nights             21694 non-null  int64  \n",
      " 12  maximum_nights             21694 non-null  int64  \n",
      " 13  availability_365           21694 non-null  int64  \n",
      "dtypes: float64(6), int32(4), int64(4)\n",
      "memory usage: 2.7 MB\n"
     ]
    }
   ],
   "source": [
    "X = X.astype({\"host_verifications\": int}, errors='raise')\n",
    "X = X.astype({\"host_identity_verified\": int}, errors='raise')\n",
    "X = X.astype({\"neighbourhood_cleansed\": int}, errors='raise')\n",
    "X = X.astype({\"property_type\": int}, errors='raise') \n",
    "X = X.astype({\"bathrooms_text\": float}, errors='raise')\n",
    "X = X.astype({\"price\": float}, errors='raise') \n",
    "X.info()"
   ]
  },
  {
   "cell_type": "markdown",
   "metadata": {},
   "source": [
    "### Podemos analisar agora os dados, do dataset limpo e corrigido"
   ]
  },
  {
   "cell_type": "code",
   "execution_count": 17,
   "metadata": {},
   "outputs": [
    {
     "data": {
      "text/html": [
       "<div>\n",
       "<style scoped>\n",
       "    .dataframe tbody tr th:only-of-type {\n",
       "        vertical-align: middle;\n",
       "    }\n",
       "\n",
       "    .dataframe tbody tr th {\n",
       "        vertical-align: top;\n",
       "    }\n",
       "\n",
       "    .dataframe thead th {\n",
       "        text-align: right;\n",
       "    }\n",
       "</style>\n",
       "<table border=\"1\" class=\"dataframe\">\n",
       "  <thead>\n",
       "    <tr style=\"text-align: right;\">\n",
       "      <th></th>\n",
       "      <th>host_listings_count</th>\n",
       "      <th>host_total_listings_count</th>\n",
       "      <th>host_verifications</th>\n",
       "      <th>host_identity_verified</th>\n",
       "      <th>neighbourhood_cleansed</th>\n",
       "      <th>property_type</th>\n",
       "      <th>accommodates</th>\n",
       "      <th>bathrooms_text</th>\n",
       "      <th>bedrooms</th>\n",
       "      <th>beds</th>\n",
       "      <th>price</th>\n",
       "      <th>minimum_nights</th>\n",
       "      <th>maximum_nights</th>\n",
       "      <th>availability_365</th>\n",
       "    </tr>\n",
       "  </thead>\n",
       "  <tbody>\n",
       "    <tr>\n",
       "      <th>0</th>\n",
       "      <td>2.0</td>\n",
       "      <td>2.0</td>\n",
       "      <td>7</td>\n",
       "      <td>1</td>\n",
       "      <td>34</td>\n",
       "      <td>9</td>\n",
       "      <td>5</td>\n",
       "      <td>1.0</td>\n",
       "      <td>2.0</td>\n",
       "      <td>2.0</td>\n",
       "      <td>350.0</td>\n",
       "      <td>5</td>\n",
       "      <td>180</td>\n",
       "      <td>257</td>\n",
       "    </tr>\n",
       "    <tr>\n",
       "      <th>1</th>\n",
       "      <td>0.0</td>\n",
       "      <td>0.0</td>\n",
       "      <td>5</td>\n",
       "      <td>1</td>\n",
       "      <td>64</td>\n",
       "      <td>15</td>\n",
       "      <td>2</td>\n",
       "      <td>1.0</td>\n",
       "      <td>1.0</td>\n",
       "      <td>1.0</td>\n",
       "      <td>296.0</td>\n",
       "      <td>3</td>\n",
       "      <td>90</td>\n",
       "      <td>107</td>\n",
       "    </tr>\n",
       "    <tr>\n",
       "      <th>2</th>\n",
       "      <td>3.0</td>\n",
       "      <td>3.0</td>\n",
       "      <td>7</td>\n",
       "      <td>1</td>\n",
       "      <td>34</td>\n",
       "      <td>15</td>\n",
       "      <td>3</td>\n",
       "      <td>1.0</td>\n",
       "      <td>1.0</td>\n",
       "      <td>1.0</td>\n",
       "      <td>387.0</td>\n",
       "      <td>3</td>\n",
       "      <td>90</td>\n",
       "      <td>206</td>\n",
       "    </tr>\n",
       "    <tr>\n",
       "      <th>3</th>\n",
       "      <td>1.0</td>\n",
       "      <td>1.0</td>\n",
       "      <td>7</td>\n",
       "      <td>1</td>\n",
       "      <td>64</td>\n",
       "      <td>15</td>\n",
       "      <td>2</td>\n",
       "      <td>1.0</td>\n",
       "      <td>1.0</td>\n",
       "      <td>1.0</td>\n",
       "      <td>172.0</td>\n",
       "      <td>2</td>\n",
       "      <td>89</td>\n",
       "      <td>207</td>\n",
       "    </tr>\n",
       "    <tr>\n",
       "      <th>4</th>\n",
       "      <td>1.0</td>\n",
       "      <td>1.0</td>\n",
       "      <td>4</td>\n",
       "      <td>1</td>\n",
       "      <td>34</td>\n",
       "      <td>13</td>\n",
       "      <td>2</td>\n",
       "      <td>1.0</td>\n",
       "      <td>1.0</td>\n",
       "      <td>1.0</td>\n",
       "      <td>260.0</td>\n",
       "      <td>3</td>\n",
       "      <td>15</td>\n",
       "      <td>58</td>\n",
       "    </tr>\n",
       "    <tr>\n",
       "      <th>...</th>\n",
       "      <td>...</td>\n",
       "      <td>...</td>\n",
       "      <td>...</td>\n",
       "      <td>...</td>\n",
       "      <td>...</td>\n",
       "      <td>...</td>\n",
       "      <td>...</td>\n",
       "      <td>...</td>\n",
       "      <td>...</td>\n",
       "      <td>...</td>\n",
       "      <td>...</td>\n",
       "      <td>...</td>\n",
       "      <td>...</td>\n",
       "      <td>...</td>\n",
       "    </tr>\n",
       "    <tr>\n",
       "      <th>24544</th>\n",
       "      <td>0.0</td>\n",
       "      <td>0.0</td>\n",
       "      <td>8</td>\n",
       "      <td>1</td>\n",
       "      <td>34</td>\n",
       "      <td>15</td>\n",
       "      <td>10</td>\n",
       "      <td>3.0</td>\n",
       "      <td>4.0</td>\n",
       "      <td>8.0</td>\n",
       "      <td>1786.0</td>\n",
       "      <td>4</td>\n",
       "      <td>365</td>\n",
       "      <td>365</td>\n",
       "    </tr>\n",
       "    <tr>\n",
       "      <th>24545</th>\n",
       "      <td>1.0</td>\n",
       "      <td>1.0</td>\n",
       "      <td>7</td>\n",
       "      <td>1</td>\n",
       "      <td>46</td>\n",
       "      <td>15</td>\n",
       "      <td>4</td>\n",
       "      <td>1.0</td>\n",
       "      <td>1.0</td>\n",
       "      <td>2.0</td>\n",
       "      <td>460.0</td>\n",
       "      <td>2</td>\n",
       "      <td>365</td>\n",
       "      <td>3</td>\n",
       "    </tr>\n",
       "    <tr>\n",
       "      <th>24546</th>\n",
       "      <td>1.0</td>\n",
       "      <td>1.0</td>\n",
       "      <td>5</td>\n",
       "      <td>1</td>\n",
       "      <td>78</td>\n",
       "      <td>15</td>\n",
       "      <td>8</td>\n",
       "      <td>2.0</td>\n",
       "      <td>3.0</td>\n",
       "      <td>4.0</td>\n",
       "      <td>891.0</td>\n",
       "      <td>2</td>\n",
       "      <td>365</td>\n",
       "      <td>267</td>\n",
       "    </tr>\n",
       "    <tr>\n",
       "      <th>24547</th>\n",
       "      <td>9.0</td>\n",
       "      <td>9.0</td>\n",
       "      <td>7</td>\n",
       "      <td>1</td>\n",
       "      <td>34</td>\n",
       "      <td>15</td>\n",
       "      <td>6</td>\n",
       "      <td>1.0</td>\n",
       "      <td>1.0</td>\n",
       "      <td>8.0</td>\n",
       "      <td>177.0</td>\n",
       "      <td>4</td>\n",
       "      <td>90</td>\n",
       "      <td>81</td>\n",
       "    </tr>\n",
       "    <tr>\n",
       "      <th>24548</th>\n",
       "      <td>65.0</td>\n",
       "      <td>65.0</td>\n",
       "      <td>7</td>\n",
       "      <td>1</td>\n",
       "      <td>128</td>\n",
       "      <td>16</td>\n",
       "      <td>3</td>\n",
       "      <td>1.0</td>\n",
       "      <td>1.0</td>\n",
       "      <td>2.0</td>\n",
       "      <td>818.0</td>\n",
       "      <td>1</td>\n",
       "      <td>365</td>\n",
       "      <td>304</td>\n",
       "    </tr>\n",
       "  </tbody>\n",
       "</table>\n",
       "<p>21694 rows × 14 columns</p>\n",
       "</div>"
      ],
      "text/plain": [
       "       host_listings_count  host_total_listings_count  host_verifications  \\\n",
       "0                      2.0                        2.0                   7   \n",
       "1                      0.0                        0.0                   5   \n",
       "2                      3.0                        3.0                   7   \n",
       "3                      1.0                        1.0                   7   \n",
       "4                      1.0                        1.0                   4   \n",
       "...                    ...                        ...                 ...   \n",
       "24544                  0.0                        0.0                   8   \n",
       "24545                  1.0                        1.0                   7   \n",
       "24546                  1.0                        1.0                   5   \n",
       "24547                  9.0                        9.0                   7   \n",
       "24548                 65.0                       65.0                   7   \n",
       "\n",
       "       host_identity_verified  neighbourhood_cleansed  property_type  \\\n",
       "0                           1                      34              9   \n",
       "1                           1                      64             15   \n",
       "2                           1                      34             15   \n",
       "3                           1                      64             15   \n",
       "4                           1                      34             13   \n",
       "...                       ...                     ...            ...   \n",
       "24544                       1                      34             15   \n",
       "24545                       1                      46             15   \n",
       "24546                       1                      78             15   \n",
       "24547                       1                      34             15   \n",
       "24548                       1                     128             16   \n",
       "\n",
       "       accommodates  bathrooms_text  bedrooms  beds   price  minimum_nights  \\\n",
       "0                 5             1.0       2.0   2.0   350.0               5   \n",
       "1                 2             1.0       1.0   1.0   296.0               3   \n",
       "2                 3             1.0       1.0   1.0   387.0               3   \n",
       "3                 2             1.0       1.0   1.0   172.0               2   \n",
       "4                 2             1.0       1.0   1.0   260.0               3   \n",
       "...             ...             ...       ...   ...     ...             ...   \n",
       "24544            10             3.0       4.0   8.0  1786.0               4   \n",
       "24545             4             1.0       1.0   2.0   460.0               2   \n",
       "24546             8             2.0       3.0   4.0   891.0               2   \n",
       "24547             6             1.0       1.0   8.0   177.0               4   \n",
       "24548             3             1.0       1.0   2.0   818.0               1   \n",
       "\n",
       "       maximum_nights  availability_365  \n",
       "0                 180               257  \n",
       "1                  90               107  \n",
       "2                  90               206  \n",
       "3                  89               207  \n",
       "4                  15                58  \n",
       "...               ...               ...  \n",
       "24544             365               365  \n",
       "24545             365                 3  \n",
       "24546             365               267  \n",
       "24547              90                81  \n",
       "24548             365               304  \n",
       "\n",
       "[21694 rows x 14 columns]"
      ]
     },
     "execution_count": 17,
     "metadata": {},
     "output_type": "execute_result"
    }
   ],
   "source": [
    "X"
   ]
  },
  {
   "cell_type": "code",
   "execution_count": 18,
   "metadata": {},
   "outputs": [
    {
     "data": {
      "image/png": "[encoded data removed]",
      "text/plain": [
       "<Figure size 432x288 with 1 Axes>"
      ]
     },
     "metadata": {
      "needs_background": "light"
     },
     "output_type": "display_data"
    }
   ],
   "source": [
    "ax = df[\"accommodates\"].hist(bins=4, density=True, stacked=True, color='blue', alpha=0.6)\n",
    "df[\"accommodates\"].plot(kind='density', color='red')\n",
    "ax.set(xlabel='accommodates')\n",
    "plt.xlim(1,30)\n",
    "plt.show()"
   ]
  },
  {
   "cell_type": "markdown",
   "metadata": {},
   "source": [
    "### É possível perceber que a maioria dos valores de quantas pessoas aquele imóvel acomoda \"accomodate\" está entre 1 e 10 pessoas."
   ]
  },
  {
   "cell_type": "code",
   "execution_count": 19,
   "metadata": {},
   "outputs": [
    {
     "data": {
      "image/png": "[encoded data removed]",
      "text/plain": [
       "<Figure size 432x288 with 1 Axes>"
      ]
     },
     "metadata": {
      "needs_background": "light"
     },
     "output_type": "display_data"
    }
   ],
   "source": [
    "ax = df[\"beds\"].hist(bins=4, density=True, stacked=True, color='blue', alpha=0.6)\n",
    "df[\"beds\"].plot(kind='density', color='red')\n",
    "ax.set(xlabel='beds')\n",
    "plt.xlim(1,30)\n",
    "plt.show()"
   ]
  },
  {
   "cell_type": "markdown",
   "metadata": {},
   "source": [
    "### Como era de se esperar, o número de camas segue a mesma tendência"
   ]
  },
  {
   "cell_type": "markdown",
   "metadata": {},
   "source": [
    "### Antes de começar o treinamento, é importante lembrar que as classes estão desbalanceadas. A categoria hotel_room conta com apenas 56 amostras. Utilizando o algoritmo SMOTE (Synthetic Minority Over-sampling Technique) é possível gerar amostras artificiais das classes com menos amostras. Referência -> https://arxiv.org/pdf/1106.1813.pdf"
   ]
  },
  {
   "cell_type": "code",
   "execution_count": 20,
   "metadata": {},
   "outputs": [],
   "source": [
    "from imblearn.over_sampling import SMOTE\n",
    "sm = SMOTE(random_state=42)\n",
    "X, Y = sm.fit_resample(X, Y)"
   ]
  },
  {
   "cell_type": "markdown",
   "metadata": {},
   "source": [
    "### Vamos dividir os dataframes das variáveis independentes (X) e da alvo (Y)"
   ]
  },
  {
   "cell_type": "code",
   "execution_count": 21,
   "metadata": {},
   "outputs": [],
   "source": [
    "X_train, X_test, y_train, y_test = train_test_split(X, Y, random_state=42)"
   ]
  },
  {
   "cell_type": "markdown",
   "metadata": {},
   "source": [
    "### Para saber das features selecionados quais são mais relevantes, é possível se fazer um \"weak learner\" como uma random forest ou decision forest para saber quais atributos conseguem melhor separar os dados. Utilizando o cálculo de importância. Mais em: https://scikit-learn.org/stable/auto_examples/ensemble/plot_forest_importances.html"
   ]
  },
  {
   "cell_type": "code",
   "execution_count": 22,
   "metadata": {},
   "outputs": [
    {
     "data": {
      "text/plain": [
       "RandomForestClassifier(random_state=0)"
      ]
     },
     "execution_count": 22,
     "metadata": {},
     "output_type": "execute_result"
    }
   ],
   "source": [
    "from sklearn.ensemble import RandomForestClassifier\n",
    "feature_names = [f\"feature {i}\" for i in (X.columns)]\n",
    "forest = RandomForestClassifier(random_state=0)\n",
    "forest.fit(X_train, y_train)"
   ]
  },
  {
   "cell_type": "markdown",
   "metadata": {},
   "source": [
    "### Vamos agora, plotar os decrécimos de impuridade (MDI) ou GINI para essas features.\n",
    "### Uma excelente explicação sobre MDI >https://blog.methodsconsultants.com/posts/be-aware-of-bias-in-rf-variable-importance-metrics/"
   ]
  },
  {
   "cell_type": "code",
   "execution_count": 23,
   "metadata": {},
   "outputs": [
    {
     "data": {
      "text/plain": [
       "Text(0,0.5,'Decrécimo da média de impuridade')"
      ]
     },
     "execution_count": 23,
     "metadata": {},
     "output_type": "execute_result"
    },
    {
     "data": {
      "image/png": "[encoded data removed]",
      "text/plain": [
       "<Figure size 432x288 with 1 Axes>"
      ]
     },
     "metadata": {
      "needs_background": "light"
     },
     "output_type": "display_data"
    }
   ],
   "source": [
    "import pandas as pd\n",
    "\n",
    "importances = forest.feature_importances_\n",
    "std = np.std([tree.feature_importances_ for tree in forest.estimators_], axis=0)\n",
    "\n",
    "forest_importances = pd.Series(importances, index=feature_names)\n",
    "\n",
    "fig, ax = plt.subplots()\n",
    "forest_importances.plot.bar(yerr=std, ax=ax)\n",
    "ax.set_title(\"Importância das features\")\n",
    "ax.set_ylabel(\"Decrécimo da média de impuridade\")"
   ]
  },
  {
   "cell_type": "markdown",
   "metadata": {},
   "source": [
    "### É notório que as variáveis relacionadas ao imóvel (principalmente \"property_type\") são extremamentes relevantes para separação dos dados. As variáveis relacionadas ao propretário possuem um menor grau de relevância nessa modelagem"
   ]
  },
  {
   "cell_type": "markdown",
   "metadata": {},
   "source": [
    "### Vamos criar o classificador, usando uma rede neural do keras"
   ]
  },
  {
   "cell_type": "code",
   "execution_count": 24,
   "metadata": {},
   "outputs": [],
   "source": [
    "def create_model():\n",
    "    model = Sequential()\n",
    "    model.add(Dense(14, input_dim=14, activation='softmax',kernel_initializer='lecun_normal'))\n",
    "    model.add(Dense(28, activation='softmax',kernel_initializer='lecun_normal'))\n",
    "    model.add(Dense(4, activation='softmax',kernel_initializer='lecun_normal'))\n",
    "    model.compile(loss='sparse_categorical_crossentropy', optimizer='adam', metrics=['accuracy'])\n",
    "    return model"
   ]
  },
  {
   "cell_type": "markdown",
   "metadata": {},
   "source": [
    "### Vamos treinar um modelo em X_train e y_train e testar as predições em X_test para comparar com y_test"
   ]
  },
  {
   "cell_type": "code",
   "execution_count": 34,
   "metadata": {},
   "outputs": [],
   "source": [
    "import sklearn.metrics as metrics\n",
    "from scikeras.wrappers import KerasClassifier\n",
    "model = KerasClassifier(model=create_model, epochs=30, batch_size=10, verbose=0)\n",
    "model.fit(X_train, y_train)\n",
    "predictions = model.predict(X_test)\n",
    "y_pred = y_test.values.tolist()\n",
    "matrix = metrics.confusion_matrix(predictions, y_pred)"
   ]
  },
  {
   "cell_type": "code",
   "execution_count": 35,
   "metadata": {},
   "outputs": [
    {
     "name": "stdout",
     "output_type": "stream",
     "text": [
      "Confusion Matrix :\n",
      " [[3999    0   96   23]\n",
      " [   5 3550  385  314]\n",
      " [  74  184 3566  291]\n",
      " [   1  346   59 3443]]\n"
     ]
    }
   ],
   "source": [
    "from sklearn.metrics import confusion_matrix\n",
    "print(\"Confusion Matrix :\\n\", confusion_matrix(predictions, y_pred))"
   ]
  },
  {
   "cell_type": "markdown",
   "metadata": {},
   "source": [
    "### Vamos aplicar um cross validation 10 fold, para verificar a média da acurácia em 10 classificações"
   ]
  },
  {
   "cell_type": "code",
   "execution_count": 30,
   "metadata": {},
   "outputs": [
    {
     "name": "stdout",
     "output_type": "stream",
     "text": [
      "Acurácia médias dos 10 folds: 83.06% \n"
     ]
    }
   ],
   "source": [
    "from sklearn.model_selection import KFold\n",
    "from scikeras.wrappers import KerasClassifier, KerasRegressor\n",
    "cross_validation = KerasClassifier(model=create_model, epochs=150, batch_size=30, verbose=0)\n",
    "kfold = KFold(n_splits=10, shuffle=True)\n",
    "results = cross_val_score(cross_validation, X_test, y_test, cv=kfold)\n",
    "print(\"Acurácia médias dos 10 folds: %.2f%% \" % (results.mean()*100))"
   ]
  },
  {
   "cell_type": "markdown",
   "metadata": {},
   "source": [
    "### A modelo proposto atingiu uma média de 85.62% de acurácia na validação cruzada, vamos tirar as outras métricas: precisão,recall e F1"
   ]
  },
  {
   "cell_type": "code",
   "execution_count": 36,
   "metadata": {},
   "outputs": [
    {
     "name": "stdout",
     "output_type": "stream",
     "text": [
      "Precision: 0.8917540807377721\n"
     ]
    }
   ],
   "source": [
    "from sklearn.metrics import precision_score\n",
    "precision = precision_score(predictions, y_pred,average='weighted')\n",
    "print(f\"Precision: {precision}\")"
   ]
  },
  {
   "cell_type": "code",
   "execution_count": 37,
   "metadata": {},
   "outputs": [
    {
     "name": "stdout",
     "output_type": "stream",
     "text": [
      "Recall: 0.8911606268364348\n"
     ]
    }
   ],
   "source": [
    "from sklearn.metrics import recall_score\n",
    "recall = recall_score(predictions, y_pred,average='weighted')\n",
    "print(f\"Recall: {recall}\")"
   ]
  },
  {
   "cell_type": "code",
   "execution_count": 38,
   "metadata": {},
   "outputs": [
    {
     "name": "stdout",
     "output_type": "stream",
     "text": [
      "F1 score: 0.8914572550197503\n"
     ]
    }
   ],
   "source": [
    "print(f\"F1 score: {2 * (precision * recall) / (precision + recall)}\")"
   ]
  },
  {
   "cell_type": "code",
   "execution_count": null,
   "metadata": {},
   "outputs": [],
   "source": []
  },
  {
   "cell_type": "code",
   "execution_count": null,
   "metadata": {},
   "outputs": [],
   "source": []
  }
 ],
 "metadata": {
  "kernelspec": {
   "display_name": "Python 3",
   "language": "python",
   "name": "python3"
  },
  "language_info": {
   "codemirror_mode": {
    "name": "ipython",
    "version": 3
   },
   "file_extension": ".py",
   "mimetype": "text/x-python",
   "name": "python",
   "nbconvert_exporter": "python",
   "pygments_lexer": "ipython3",
   "version": "3.7.8"
  }
 },
 "nbformat": 4,
 "nbformat_minor": 4
}
